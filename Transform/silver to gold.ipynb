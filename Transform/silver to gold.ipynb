{
 "cells": [
  {
   "cell_type": "code",
   "execution_count": 0,
   "metadata": {
    "application/vnd.databricks.v1+cell": {
     "cellMetadata": {
      "byteLimit": 2048000,
      "rowLimit": 10000
     },
     "inputWidgets": {},
     "nuid": "3d250e5f-d72a-4fe7-8194-af32711955d9",
     "showTitle": false,
     "title": ""
    }
   },
   "outputs": [],
   "source": [
    "table_name = []\n",
    "for i in dbutils.fs.ls('/mnt/silver/SalesLT/'):\n",
    "    table_name.append(i.name.split('/')[0])\n",
    "\n",
    "for name in table_name:\n",
    "    path = '/mnt/silver/SalesLT/'+name\n",
    "    df = spark.read.format('delta').load(path)\n",
    "    column_names = df.columns\n",
    "\n",
    "    for old_col_name in column_names:\n",
    "        new_col_name = (''.join(['_' + char if char.isupper() and not old_col_name[i-1].isupper() else char \n",
    "                                    for i,char in enumerate(old_col_name)])).lstrip('_')\n",
    "        df = df.withColumnRenamed(old_col_name,new_col_name)\n",
    "\n",
    "    output_path = '/mnt/gold/SalesLT/'+name+'/'\n",
    "\n",
    "    df.write.format('delta').mode('overwrite').save(output_path)\n"
   ]
  },
  {
   "cell_type": "code",
   "execution_count": 0,
   "metadata": {
    "application/vnd.databricks.v1+cell": {
     "cellMetadata": {},
     "inputWidgets": {},
     "nuid": "1502223e-6f4d-4999-8376-7bcf7c62ae44",
     "showTitle": false,
     "title": ""
    }
   },
   "outputs": [],
   "source": []
  }
 ],
 "metadata": {
  "application/vnd.databricks.v1+notebook": {
   "dashboards": [],
   "language": "python",
   "notebookMetadata": {
    "pythonIndentUnit": 4
   },
   "notebookName": "silver to gold",
   "widgets": {}
  }
 },
 "nbformat": 4,
 "nbformat_minor": 0
}
