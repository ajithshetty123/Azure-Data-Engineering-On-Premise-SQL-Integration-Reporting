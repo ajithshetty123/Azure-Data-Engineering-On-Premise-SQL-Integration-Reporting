{
 "cells": [
  {
   "cell_type": "markdown",
   "metadata": {
    "application/vnd.databricks.v1+cell": {
     "cellMetadata": {},
     "inputWidgets": {},
     "nuid": "f761564e-4ab8-466e-be6e-1544ec88f435",
     "showTitle": false,
     "title": ""
    }
   },
   "source": [
    "## Bronze to Silver Transformation"
   ]
  },
  {
   "cell_type": "code",
   "execution_count": 0,
   "metadata": {
    "application/vnd.databricks.v1+cell": {
     "cellMetadata": {
      "byteLimit": 2048000,
      "rowLimit": 10000
     },
     "inputWidgets": {},
     "nuid": "d9213645-d5d4-44c7-974b-e7444083c952",
     "showTitle": false,
     "title": ""
    }
   },
   "outputs": [],
   "source": [
    "from pyspark.sql.functions import from_utc_timestamp,date_format\n",
    "from pyspark.sql.types import TimestampType\n",
    "\n",
    "table_name = []\n",
    "for i in dbutils.fs.ls('/mnt/bronze/SalesLT/'):\n",
    "    table_name.append(i.name.split('/')[0])\n",
    "\n",
    "for i in table_name:\n",
    "    path = '/mnt/bronze/SalesLT/'+i+'/'+i+'.parquet'\n",
    "    df = spark.read.format('parquet').load(path)\n",
    "    column = df.columns\n",
    "    for col in column:\n",
    "        if 'date' in col or 'Date' in col :\n",
    "            df = df.withColumn(col,date_format(from_utc_timestamp(df[col].cast(TimestampType()),\"UTC\"),\"yy-MM-dd\"))\n",
    "    output_path = '/mnt/silver/'+i+'/'\n",
    "    df.write.format('delta').mode(\"overwrite\").save(output_path)"
   ]
  },
  {
   "cell_type": "code",
   "execution_count": 0,
   "metadata": {
    "application/vnd.databricks.v1+cell": {
     "cellMetadata": {},
     "inputWidgets": {},
     "nuid": "0cfc6491-dfd1-47a8-ade7-2a6d427be5f1",
     "showTitle": false,
     "title": ""
    }
   },
   "outputs": [],
   "source": []
  }
 ],
 "metadata": {
  "application/vnd.databricks.v1+notebook": {
   "dashboards": [],
   "language": "python",
   "notebookMetadata": {
    "pythonIndentUnit": 4
   },
   "notebookName": "bronze to silver",
   "widgets": {}
  }
 },
 "nbformat": 4,
 "nbformat_minor": 0
}
