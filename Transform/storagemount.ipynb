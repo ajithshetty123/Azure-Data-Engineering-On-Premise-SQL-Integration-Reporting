{
 "cells": [
  {
   "cell_type": "code",
   "execution_count": 0,
   "metadata": {
    "application/vnd.databricks.v1+cell": {
     "cellMetadata": {
      "byteLimit": 2048000,
      "rowLimit": 10000
     },
     "inputWidgets": {},
     "nuid": "27a88b20-02fa-4a2c-93d4-ee3479612de4",
     "showTitle": false,
     "title": ""
    }
   },
   "outputs": [
    {
     "output_type": "execute_result",
     "data": {
      "text/plain": [
       "True"
      ]
     },
     "execution_count": 1,
     "metadata": {},
     "output_type": "execute_result"
    }
   ],
   "source": [
    "configs = {\n",
    "  \"fs.azure.account.auth.type\": \"CustomAccessToken\",\n",
    "  \"fs.azure.account.custom.token.provider.class\": spark.conf.get(\"spark.databricks.passthrough.adls.gen2.tokenProviderClassName\")\n",
    "}\n",
    "\n",
    "# Optionally, you can add <directory-name> to the source URI of your mount point.\n",
    "dbutils.fs.mount(\n",
    "  source = \"abfss://bronze@onpremtocloudstorage1123.dfs.core.windows.net/\",\n",
    "  mount_point = \"/mnt/bronze\",\n",
    "  extra_configs = configs)"
   ]
  },
  {
   "cell_type": "code",
   "execution_count": 0,
   "metadata": {
    "application/vnd.databricks.v1+cell": {
     "cellMetadata": {
      "byteLimit": 2048000,
      "rowLimit": 10000
     },
     "inputWidgets": {},
     "nuid": "19b0a5d9-8df5-4080-8f62-998a2c2761cd",
     "showTitle": false,
     "title": ""
    }
   },
   "outputs": [
    {
     "output_type": "display_data",
     "data": {
      "text/html": [
       "<style scoped>\n",
       "  .table-result-container {\n",
       "    max-height: 300px;\n",
       "    overflow: auto;\n",
       "  }\n",
       "  table, th, td {\n",
       "    border: 1px solid black;\n",
       "    border-collapse: collapse;\n",
       "  }\n",
       "  th, td {\n",
       "    padding: 5px;\n",
       "  }\n",
       "  th {\n",
       "    text-align: left;\n",
       "  }\n",
       "</style><div class='table-result-container'><table class='table-result'><thead style='background-color: white'><tr><th>path</th><th>name</th><th>size</th><th>modificationTime</th></tr></thead><tbody><tr><td>dbfs:/mnt/bronze/SalesLT/Address/</td><td>Address/</td><td>0</td><td>1700989836000</td></tr><tr><td>dbfs:/mnt/bronze/SalesLT/Customer/</td><td>Customer/</td><td>0</td><td>1700989869000</td></tr><tr><td>dbfs:/mnt/bronze/SalesLT/CustomerAddress/</td><td>CustomerAddress/</td><td>0</td><td>1700989851000</td></tr><tr><td>dbfs:/mnt/bronze/SalesLT/Product/</td><td>Product/</td><td>0</td><td>1700989836000</td></tr><tr><td>dbfs:/mnt/bronze/SalesLT/ProductCategory/</td><td>ProductCategory/</td><td>0</td><td>1700989869000</td></tr><tr><td>dbfs:/mnt/bronze/SalesLT/ProductDescription/</td><td>ProductDescription/</td><td>0</td><td>1700989878000</td></tr><tr><td>dbfs:/mnt/bronze/SalesLT/ProductModel/</td><td>ProductModel/</td><td>0</td><td>1700989878000</td></tr><tr><td>dbfs:/mnt/bronze/SalesLT/ProductModelProductDescription/</td><td>ProductModelProductDescription/</td><td>0</td><td>1700989836000</td></tr><tr><td>dbfs:/mnt/bronze/SalesLT/SalesOrderDetail/</td><td>SalesOrderDetail/</td><td>0</td><td>1700989837000</td></tr><tr><td>dbfs:/mnt/bronze/SalesLT/SalesOrderHeader/</td><td>SalesOrderHeader/</td><td>0</td><td>1700989869000</td></tr></tbody></table></div>"
      ]
     },
     "metadata": {
      "application/vnd.databricks.v1+output": {
       "addedWidgets": {},
       "aggData": [],
       "aggError": "",
       "aggOverflow": false,
       "aggSchema": [],
       "aggSeriesLimitReached": false,
       "aggType": "",
       "arguments": {},
       "columnCustomDisplayInfos": {},
       "data": [
        [
         "dbfs:/mnt/bronze/SalesLT/Address/",
         "Address/",
         0,
         1700989836000
        ],
        [
         "dbfs:/mnt/bronze/SalesLT/Customer/",
         "Customer/",
         0,
         1700989869000
        ],
        [
         "dbfs:/mnt/bronze/SalesLT/CustomerAddress/",
         "CustomerAddress/",
         0,
         1700989851000
        ],
        [
         "dbfs:/mnt/bronze/SalesLT/Product/",
         "Product/",
         0,
         1700989836000
        ],
        [
         "dbfs:/mnt/bronze/SalesLT/ProductCategory/",
         "ProductCategory/",
         0,
         1700989869000
        ],
        [
         "dbfs:/mnt/bronze/SalesLT/ProductDescription/",
         "ProductDescription/",
         0,
         1700989878000
        ],
        [
         "dbfs:/mnt/bronze/SalesLT/ProductModel/",
         "ProductModel/",
         0,
         1700989878000
        ],
        [
         "dbfs:/mnt/bronze/SalesLT/ProductModelProductDescription/",
         "ProductModelProductDescription/",
         0,
         1700989836000
        ],
        [
         "dbfs:/mnt/bronze/SalesLT/SalesOrderDetail/",
         "SalesOrderDetail/",
         0,
         1700989837000
        ],
        [
         "dbfs:/mnt/bronze/SalesLT/SalesOrderHeader/",
         "SalesOrderHeader/",
         0,
         1700989869000
        ]
       ],
       "datasetInfos": [],
       "dbfsResultPath": null,
       "isJsonSchema": true,
       "metadata": {
        "isDbfsCommandResult": false
       },
       "overflow": false,
       "plotOptions": {
        "customPlotOptions": {},
        "displayType": "table",
        "pivotAggregation": null,
        "pivotColumns": null,
        "xColumns": null,
        "yColumns": null
       },
       "removedWidgets": [],
       "schema": [
        {
         "metadata": "{}",
         "name": "path",
         "type": "\"string\""
        },
        {
         "metadata": "{}",
         "name": "name",
         "type": "\"string\""
        },
        {
         "metadata": "{}",
         "name": "size",
         "type": "\"long\""
        },
        {
         "metadata": "{}",
         "name": "modificationTime",
         "type": "\"long\""
        }
       ],
       "type": "table"
      }
     },
     "output_type": "display_data"
    }
   ],
   "source": [
    "%fs ls /mnt/bronze/SalesLT"
   ]
  },
  {
   "cell_type": "code",
   "execution_count": 0,
   "metadata": {
    "application/vnd.databricks.v1+cell": {
     "cellMetadata": {
      "byteLimit": 2048000,
      "rowLimit": 10000
     },
     "inputWidgets": {},
     "nuid": "17939fb3-7e13-4f3b-88a7-2c3e67c6f040",
     "showTitle": false,
     "title": ""
    }
   },
   "outputs": [
    {
     "output_type": "execute_result",
     "data": {
      "text/plain": [
       "True"
      ]
     },
     "execution_count": 2,
     "metadata": {},
     "output_type": "execute_result"
    }
   ],
   "source": [
    "configs = {\n",
    "  \"fs.azure.account.auth.type\": \"CustomAccessToken\",\n",
    "  \"fs.azure.account.custom.token.provider.class\": spark.conf.get(\"spark.databricks.passthrough.adls.gen2.tokenProviderClassName\")\n",
    "}\n",
    "\n",
    "# Optionally, you can add <directory-name> to the source URI of your mount point.\n",
    "dbutils.fs.mount(\n",
    "  source = \"abfss://silver@onpremtocloudstorage1123.dfs.core.windows.net/\",\n",
    "  mount_point = \"/mnt/silver\",\n",
    "  extra_configs = configs)"
   ]
  },
  {
   "cell_type": "code",
   "execution_count": 0,
   "metadata": {
    "application/vnd.databricks.v1+cell": {
     "cellMetadata": {
      "byteLimit": 2048000,
      "rowLimit": 10000
     },
     "inputWidgets": {},
     "nuid": "3d249e99-62ad-4aa0-9f8a-489c2ffe266e",
     "showTitle": false,
     "title": ""
    }
   },
   "outputs": [
    {
     "output_type": "execute_result",
     "data": {
      "text/plain": [
       "True"
      ]
     },
     "execution_count": 3,
     "metadata": {},
     "output_type": "execute_result"
    }
   ],
   "source": [
    "configs = {\n",
    "  \"fs.azure.account.auth.type\": \"CustomAccessToken\",\n",
    "  \"fs.azure.account.custom.token.provider.class\": spark.conf.get(\"spark.databricks.passthrough.adls.gen2.tokenProviderClassName\")\n",
    "}\n",
    "\n",
    "# Optionally, you can add <directory-name> to the source URI of your mount point.\n",
    "dbutils.fs.mount(\n",
    "  source = \"abfss://gold@onpremtocloudstorage1123.dfs.core.windows.net/\",\n",
    "  mount_point = \"/mnt/gold\",\n",
    "  extra_configs = configs)"
   ]
  },
  {
   "cell_type": "code",
   "execution_count": 0,
   "metadata": {
    "application/vnd.databricks.v1+cell": {
     "cellMetadata": {},
     "inputWidgets": {},
     "nuid": "df0db98b-184b-4724-9884-9ddd49735b4a",
     "showTitle": false,
     "title": ""
    }
   },
   "outputs": [],
   "source": []
  }
 ],
 "metadata": {
  "application/vnd.databricks.v1+notebook": {
   "dashboards": [],
   "language": "python",
   "notebookMetadata": {
    "mostRecentlyExecutedCommandWithImplicitDF": {
     "commandId": 2409846340233311,
     "dataframes": [
      "_sqldf"
     ]
    },
    "pythonIndentUnit": 4
   },
   "notebookName": "storagemount",
   "widgets": {}
  }
 },
 "nbformat": 4,
 "nbformat_minor": 0
}
